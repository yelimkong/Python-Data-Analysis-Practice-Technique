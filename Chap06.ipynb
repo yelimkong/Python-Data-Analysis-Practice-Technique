{
 "cells": [
  {
   "cell_type": "markdown",
   "id": "603b153f",
   "metadata": {},
   "source": [
    "## Chap06_물류의 최적경로를 컨설팅"
   ]
  },
  {
   "cell_type": "markdown",
   "id": "97e7d331",
   "metadata": {},
   "source": [
    "**상황**\n",
    "* 어떤 기업의 창고에는 1만 개의 상품 재고가 보관중\n",
    "* 전국 여러 공장에서 생산된 상품이 각각의 창고에 도착함\n",
    "\n",
    "\n",
    "*전국으로 상품을 판매하는 기억에게 어디에서 어느 정도의 상품을 생산하고, 어느 창고에 재고를 보관하고, 어느 대리점에 몇 개의 상품을 배송하는가 하는 '물류'는 상품의 매출을 좌우하는 생명선이라고 할 수 있다.*\n"
   ]
  },
  {
   "cell_type": "markdown",
   "id": "c8fc1b52",
   "metadata": {},
   "source": [
    "**6장 내용**\n",
    "* '물류'의 기초가 되는 '운송최적화'를 검토\n",
    "* 실제 물류 데이터로부터 네트워크 구조를 가시화\n",
    "* 최적 물류 계획을 세우는 흐름\n",
    "* '고객의 소리'와 '전제조건' 확인 및 데이터 불러오기"
   ]
  },
  {
   "cell_type": "markdown",
   "id": "a8c20981",
   "metadata": {},
   "source": [
    "**고객의 소리**\n",
    "\n",
    "우리 회사는 제품의 제조에서 물류까지 도맡아서 하고 있습니다. 최근 데이터 분석이라는 것을 알게 되어 상담을 받아 보려고 합니다. 최근 회사 이익이 감소하고 있어서 물류비용을 줄이고 효율화를 생각하고 있습니다. 먼저, 제품의 부품을 보관하는 창고에서 생산 공장까지 운송 비용을 낮출 수 있을지 검토하고 싶다. "
   ]
  },
  {
   "cell_type": "markdown",
   "id": "8d8b74e9",
   "metadata": {},
   "source": [
    "**전제 조건**\n",
    "\n",
    "* 부품을 보관하는 창고에서 생산 공장으로 부품을 운송\n",
    "* 각 창고와 공장 구간의 운송 비용은 과거 데이터에서 정량적으로 계산돼 있다.\n",
    "\n",
    "*집계 기간 : 2019.01.01 ~ 2019.12.31*\n",
    "\n",
    "* 북부지사와 남부지사의 데이터를 시스템에서 추출해 CSV로 제공 "
   ]
  },
  {
   "cell_type": "markdown",
   "id": "29330608",
   "metadata": {},
   "source": [
    "### 테크닉 51 : 물류 데이터 불러오기"
   ]
  },
  {
   "cell_type": "markdown",
   "id": "3fc6874f",
   "metadata": {},
   "source": [
    "* tbl_factory.csv : 생산 공장 데이터 \n",
    "* tbl_warehouse.csv : 창고 데이터 \n",
    "* rel_cost.csv : 창고와 공장 간의 운송 비용\n",
    "* tbl_transaction.csv : 운송 실적 "
   ]
  },
  {
   "cell_type": "code",
   "execution_count": 1,
   "id": "8c188e60",
   "metadata": {},
   "outputs": [
    {
     "data": {
      "text/html": [
       "<div>\n",
       "<style scoped>\n",
       "    .dataframe tbody tr th:only-of-type {\n",
       "        vertical-align: middle;\n",
       "    }\n",
       "\n",
       "    .dataframe tbody tr th {\n",
       "        vertical-align: top;\n",
       "    }\n",
       "\n",
       "    .dataframe thead th {\n",
       "        text-align: right;\n",
       "    }\n",
       "</style>\n",
       "<table border=\"1\" class=\"dataframe\">\n",
       "  <thead>\n",
       "    <tr style=\"text-align: right;\">\n",
       "      <th></th>\n",
       "      <th>FCName</th>\n",
       "      <th>FCDemand</th>\n",
       "      <th>FCRegion</th>\n",
       "    </tr>\n",
       "    <tr>\n",
       "      <th>FCID</th>\n",
       "      <th></th>\n",
       "      <th></th>\n",
       "      <th></th>\n",
       "    </tr>\n",
       "  </thead>\n",
       "  <tbody>\n",
       "    <tr>\n",
       "      <th>FC00001</th>\n",
       "      <td>서울공장</td>\n",
       "      <td>28</td>\n",
       "      <td>북부</td>\n",
       "    </tr>\n",
       "    <tr>\n",
       "      <th>FC00002</th>\n",
       "      <td>수원공장</td>\n",
       "      <td>29</td>\n",
       "      <td>북부</td>\n",
       "    </tr>\n",
       "    <tr>\n",
       "      <th>FC00003</th>\n",
       "      <td>인천공장</td>\n",
       "      <td>31</td>\n",
       "      <td>북부</td>\n",
       "    </tr>\n",
       "    <tr>\n",
       "      <th>FC00004</th>\n",
       "      <td>대전공장</td>\n",
       "      <td>25</td>\n",
       "      <td>북부</td>\n",
       "    </tr>\n",
       "    <tr>\n",
       "      <th>FC00005</th>\n",
       "      <td>대구공장</td>\n",
       "      <td>21</td>\n",
       "      <td>남부</td>\n",
       "    </tr>\n",
       "    <tr>\n",
       "      <th>FC00006</th>\n",
       "      <td>광주공장</td>\n",
       "      <td>30</td>\n",
       "      <td>남부</td>\n",
       "    </tr>\n",
       "    <tr>\n",
       "      <th>FC00007</th>\n",
       "      <td>부산공장</td>\n",
       "      <td>25</td>\n",
       "      <td>남부</td>\n",
       "    </tr>\n",
       "    <tr>\n",
       "      <th>FC00008</th>\n",
       "      <td>울산공장</td>\n",
       "      <td>16</td>\n",
       "      <td>남부</td>\n",
       "    </tr>\n",
       "  </tbody>\n",
       "</table>\n",
       "</div>"
      ],
      "text/plain": [
       "        FCName  FCDemand FCRegion\n",
       "FCID                             \n",
       "FC00001   서울공장        28       북부\n",
       "FC00002   수원공장        29       북부\n",
       "FC00003   인천공장        31       북부\n",
       "FC00004   대전공장        25       북부\n",
       "FC00005   대구공장        21       남부\n",
       "FC00006   광주공장        30       남부\n",
       "FC00007   부산공장        25       남부\n",
       "FC00008   울산공장        16       남부"
      ]
     },
     "execution_count": 1,
     "metadata": {},
     "output_type": "execute_result"
    }
   ],
   "source": [
    "import pandas as pd \n",
    "\n",
    "# 공장데이터 불러오기 \n",
    "factories = pd.read_csv('tbl_factory.csv', index_col = 0)\n",
    "factories"
   ]
  },
  {
   "cell_type": "code",
   "execution_count": 2,
   "id": "56e9bfd0",
   "metadata": {},
   "outputs": [
    {
     "data": {
      "text/html": [
       "<div>\n",
       "<style scoped>\n",
       "    .dataframe tbody tr th:only-of-type {\n",
       "        vertical-align: middle;\n",
       "    }\n",
       "\n",
       "    .dataframe tbody tr th {\n",
       "        vertical-align: top;\n",
       "    }\n",
       "\n",
       "    .dataframe thead th {\n",
       "        text-align: right;\n",
       "    }\n",
       "</style>\n",
       "<table border=\"1\" class=\"dataframe\">\n",
       "  <thead>\n",
       "    <tr style=\"text-align: right;\">\n",
       "      <th></th>\n",
       "      <th>WHName</th>\n",
       "      <th>WHSupply</th>\n",
       "      <th>WHRegion</th>\n",
       "    </tr>\n",
       "    <tr>\n",
       "      <th>WHID</th>\n",
       "      <th></th>\n",
       "      <th></th>\n",
       "      <th></th>\n",
       "    </tr>\n",
       "  </thead>\n",
       "  <tbody>\n",
       "    <tr>\n",
       "      <th>WH00001</th>\n",
       "      <td>판교창고</td>\n",
       "      <td>35</td>\n",
       "      <td>북부</td>\n",
       "    </tr>\n",
       "    <tr>\n",
       "      <th>WH00002</th>\n",
       "      <td>용인창고</td>\n",
       "      <td>41</td>\n",
       "      <td>북부</td>\n",
       "    </tr>\n",
       "    <tr>\n",
       "      <th>WH00003</th>\n",
       "      <td>수원창고</td>\n",
       "      <td>42</td>\n",
       "      <td>북부</td>\n",
       "    </tr>\n",
       "    <tr>\n",
       "      <th>WH00004</th>\n",
       "      <td>대전창고</td>\n",
       "      <td>60</td>\n",
       "      <td>남부</td>\n",
       "    </tr>\n",
       "    <tr>\n",
       "      <th>WH00005</th>\n",
       "      <td>대구창고</td>\n",
       "      <td>72</td>\n",
       "      <td>남부</td>\n",
       "    </tr>\n",
       "    <tr>\n",
       "      <th>WH00006</th>\n",
       "      <td>광주창고</td>\n",
       "      <td>65</td>\n",
       "      <td>남부</td>\n",
       "    </tr>\n",
       "  </tbody>\n",
       "</table>\n",
       "</div>"
      ],
      "text/plain": [
       "        WHName  WHSupply WHRegion\n",
       "WHID                             \n",
       "WH00001   판교창고        35       북부\n",
       "WH00002   용인창고        41       북부\n",
       "WH00003   수원창고        42       북부\n",
       "WH00004   대전창고        60       남부\n",
       "WH00005   대구창고        72       남부\n",
       "WH00006   광주창고        65       남부"
      ]
     },
     "execution_count": 2,
     "metadata": {},
     "output_type": "execute_result"
    }
   ],
   "source": [
    "# 창고 데이터 불러오기 \n",
    "# 'index_col=0'는 데이터프레임에서 첫 번째 열을 인덱스로 사용하도록 설정하는 매개변수\n",
    "warehouse = pd.read_csv('tbl_warehouse.csv', index_col = 0)\n",
    "warehouse"
   ]
  },
  {
   "cell_type": "code",
   "execution_count": 3,
   "id": "b723c203",
   "metadata": {},
   "outputs": [
    {
     "data": {
      "text/html": [
       "<div>\n",
       "<style scoped>\n",
       "    .dataframe tbody tr th:only-of-type {\n",
       "        vertical-align: middle;\n",
       "    }\n",
       "\n",
       "    .dataframe tbody tr th {\n",
       "        vertical-align: top;\n",
       "    }\n",
       "\n",
       "    .dataframe thead th {\n",
       "        text-align: right;\n",
       "    }\n",
       "</style>\n",
       "<table border=\"1\" class=\"dataframe\">\n",
       "  <thead>\n",
       "    <tr style=\"text-align: right;\">\n",
       "      <th></th>\n",
       "      <th>FCID</th>\n",
       "      <th>WHID</th>\n",
       "      <th>Cost</th>\n",
       "    </tr>\n",
       "    <tr>\n",
       "      <th>RCostID</th>\n",
       "      <th></th>\n",
       "      <th></th>\n",
       "      <th></th>\n",
       "    </tr>\n",
       "  </thead>\n",
       "  <tbody>\n",
       "    <tr>\n",
       "      <th>1</th>\n",
       "      <td>FC00001</td>\n",
       "      <td>WH00001</td>\n",
       "      <td>0.4</td>\n",
       "    </tr>\n",
       "    <tr>\n",
       "      <th>2</th>\n",
       "      <td>FC00001</td>\n",
       "      <td>WH00002</td>\n",
       "      <td>0.8</td>\n",
       "    </tr>\n",
       "    <tr>\n",
       "      <th>3</th>\n",
       "      <td>FC00001</td>\n",
       "      <td>WH00003</td>\n",
       "      <td>1.5</td>\n",
       "    </tr>\n",
       "    <tr>\n",
       "      <th>4</th>\n",
       "      <td>FC00002</td>\n",
       "      <td>WH00001</td>\n",
       "      <td>0.9</td>\n",
       "    </tr>\n",
       "    <tr>\n",
       "      <th>5</th>\n",
       "      <td>FC00002</td>\n",
       "      <td>WH00002</td>\n",
       "      <td>0.8</td>\n",
       "    </tr>\n",
       "  </tbody>\n",
       "</table>\n",
       "</div>"
      ],
      "text/plain": [
       "            FCID     WHID  Cost\n",
       "RCostID                        \n",
       "1        FC00001  WH00001   0.4\n",
       "2        FC00001  WH00002   0.8\n",
       "3        FC00001  WH00003   1.5\n",
       "4        FC00002  WH00001   0.9\n",
       "5        FC00002  WH00002   0.8"
      ]
     },
     "execution_count": 3,
     "metadata": {},
     "output_type": "execute_result"
    }
   ],
   "source": [
    "# 비용 테이블 \n",
    "cost = pd.read_csv('rel_cost.csv', index_col = 0)\n",
    "cost.head()"
   ]
  },
  {
   "cell_type": "code",
   "execution_count": 4,
   "id": "b036f480",
   "metadata": {},
   "outputs": [
    {
     "data": {
      "text/html": [
       "<div>\n",
       "<style scoped>\n",
       "    .dataframe tbody tr th:only-of-type {\n",
       "        vertical-align: middle;\n",
       "    }\n",
       "\n",
       "    .dataframe tbody tr th {\n",
       "        vertical-align: top;\n",
       "    }\n",
       "\n",
       "    .dataframe thead th {\n",
       "        text-align: right;\n",
       "    }\n",
       "</style>\n",
       "<table border=\"1\" class=\"dataframe\">\n",
       "  <thead>\n",
       "    <tr style=\"text-align: right;\">\n",
       "      <th></th>\n",
       "      <th>TransactionDate</th>\n",
       "      <th>ToFC</th>\n",
       "      <th>FromWH</th>\n",
       "      <th>Quantity</th>\n",
       "    </tr>\n",
       "    <tr>\n",
       "      <th>TRID</th>\n",
       "      <th></th>\n",
       "      <th></th>\n",
       "      <th></th>\n",
       "      <th></th>\n",
       "    </tr>\n",
       "  </thead>\n",
       "  <tbody>\n",
       "    <tr>\n",
       "      <th>0</th>\n",
       "      <td>2019-01-01 02:11:10</td>\n",
       "      <td>FC00004</td>\n",
       "      <td>WH00003</td>\n",
       "      <td>33</td>\n",
       "    </tr>\n",
       "    <tr>\n",
       "      <th>1</th>\n",
       "      <td>2019-01-01 06:12:42</td>\n",
       "      <td>FC00007</td>\n",
       "      <td>WH00006</td>\n",
       "      <td>19</td>\n",
       "    </tr>\n",
       "    <tr>\n",
       "      <th>2</th>\n",
       "      <td>2019-01-01 06:32:32</td>\n",
       "      <td>FC00006</td>\n",
       "      <td>WH00004</td>\n",
       "      <td>31</td>\n",
       "    </tr>\n",
       "    <tr>\n",
       "      <th>3</th>\n",
       "      <td>2019-01-01 07:17:06</td>\n",
       "      <td>FC00002</td>\n",
       "      <td>WH00003</td>\n",
       "      <td>18</td>\n",
       "    </tr>\n",
       "    <tr>\n",
       "      <th>4</th>\n",
       "      <td>2019-01-01 07:52:18</td>\n",
       "      <td>FC00001</td>\n",
       "      <td>WH00002</td>\n",
       "      <td>30</td>\n",
       "    </tr>\n",
       "  </tbody>\n",
       "</table>\n",
       "</div>"
      ],
      "text/plain": [
       "          TransactionDate     ToFC   FromWH  Quantity\n",
       "TRID                                                 \n",
       "0     2019-01-01 02:11:10  FC00004  WH00003        33\n",
       "1     2019-01-01 06:12:42  FC00007  WH00006        19\n",
       "2     2019-01-01 06:32:32  FC00006  WH00004        31\n",
       "3     2019-01-01 07:17:06  FC00002  WH00003        18\n",
       "4     2019-01-01 07:52:18  FC00001  WH00002        30"
      ]
     },
     "execution_count": 4,
     "metadata": {},
     "output_type": "execute_result"
    }
   ],
   "source": [
    "# 운송 실적 테이블\n",
    "trans = pd.read_csv('tbl_transaction.csv', index_col = 0)\n",
    "trans.head()"
   ]
  },
  {
   "cell_type": "markdown",
   "id": "e3c31b08",
   "metadata": {},
   "source": [
    "공장 데이터 'FCID'와 창고 데이터 'WHID'는 비용 데이터나 운송 실적 데이터에도 있는 것으로 보아 이것이 키인 것을 확인할 수 있음"
   ]
  },
  {
   "cell_type": "markdown",
   "id": "a3cb4392",
   "metadata": {},
   "source": [
    "비용 데이터는 공장(FCID)과 창고(WHID)의 조합으로 관리되고 있음 \n",
    "\n",
    "* 'WH00001 창고'에서 'FC00001 공장'으로 상품을 운송할 경우 비용이 0.4 든다는 의미"
   ]
  },
  {
   "cell_type": "markdown",
   "id": "127849d6",
   "metadata": {},
   "source": [
    "운송 실적 테이블은 실제 운송 날짜, 출발 공장(ToFC), 도착 창고(FromWH), 운송 개수가 로그로 보관되어 있음"
   ]
  },
  {
   "cell_type": "markdown",
   "id": "6bb6f0b4",
   "metadata": {},
   "source": [
    "**데이터 분석의 기초가 될 데이터는 운송 실적이기 때문에 이것을 중심으로 각 정보를 결합(레프트 조인)합니다.**"
   ]
  },
  {
   "cell_type": "code",
   "execution_count": 5,
   "id": "b1fcc4ff",
   "metadata": {},
   "outputs": [
    {
     "data": {
      "text/html": [
       "<div>\n",
       "<style scoped>\n",
       "    .dataframe tbody tr th:only-of-type {\n",
       "        vertical-align: middle;\n",
       "    }\n",
       "\n",
       "    .dataframe tbody tr th {\n",
       "        vertical-align: top;\n",
       "    }\n",
       "\n",
       "    .dataframe thead th {\n",
       "        text-align: right;\n",
       "    }\n",
       "</style>\n",
       "<table border=\"1\" class=\"dataframe\">\n",
       "  <thead>\n",
       "    <tr style=\"text-align: right;\">\n",
       "      <th></th>\n",
       "      <th>TransactionDate</th>\n",
       "      <th>ToFC</th>\n",
       "      <th>FromWH</th>\n",
       "      <th>Quantity</th>\n",
       "      <th>FCID</th>\n",
       "      <th>WHID</th>\n",
       "      <th>Cost</th>\n",
       "    </tr>\n",
       "  </thead>\n",
       "  <tbody>\n",
       "    <tr>\n",
       "      <th>0</th>\n",
       "      <td>2019-01-01 02:11:10</td>\n",
       "      <td>FC00004</td>\n",
       "      <td>WH00003</td>\n",
       "      <td>33</td>\n",
       "      <td>FC00004</td>\n",
       "      <td>WH00003</td>\n",
       "      <td>1.1</td>\n",
       "    </tr>\n",
       "    <tr>\n",
       "      <th>1</th>\n",
       "      <td>2019-01-01 06:12:42</td>\n",
       "      <td>FC00007</td>\n",
       "      <td>WH00006</td>\n",
       "      <td>19</td>\n",
       "      <td>FC00007</td>\n",
       "      <td>WH00006</td>\n",
       "      <td>1.3</td>\n",
       "    </tr>\n",
       "    <tr>\n",
       "      <th>2</th>\n",
       "      <td>2019-01-01 06:32:32</td>\n",
       "      <td>FC00006</td>\n",
       "      <td>WH00004</td>\n",
       "      <td>31</td>\n",
       "      <td>FC00006</td>\n",
       "      <td>WH00004</td>\n",
       "      <td>0.9</td>\n",
       "    </tr>\n",
       "    <tr>\n",
       "      <th>3</th>\n",
       "      <td>2019-01-01 07:17:06</td>\n",
       "      <td>FC00002</td>\n",
       "      <td>WH00003</td>\n",
       "      <td>18</td>\n",
       "      <td>FC00002</td>\n",
       "      <td>WH00003</td>\n",
       "      <td>1.6</td>\n",
       "    </tr>\n",
       "    <tr>\n",
       "      <th>4</th>\n",
       "      <td>2019-01-01 07:52:18</td>\n",
       "      <td>FC00001</td>\n",
       "      <td>WH00002</td>\n",
       "      <td>30</td>\n",
       "      <td>FC00001</td>\n",
       "      <td>WH00002</td>\n",
       "      <td>0.8</td>\n",
       "    </tr>\n",
       "  </tbody>\n",
       "</table>\n",
       "</div>"
      ],
      "text/plain": [
       "       TransactionDate     ToFC   FromWH  Quantity     FCID     WHID  Cost\n",
       "0  2019-01-01 02:11:10  FC00004  WH00003        33  FC00004  WH00003   1.1\n",
       "1  2019-01-01 06:12:42  FC00007  WH00006        19  FC00007  WH00006   1.3\n",
       "2  2019-01-01 06:32:32  FC00006  WH00004        31  FC00006  WH00004   0.9\n",
       "3  2019-01-01 07:17:06  FC00002  WH00003        18  FC00002  WH00003   1.6\n",
       "4  2019-01-01 07:52:18  FC00001  WH00002        30  FC00001  WH00002   0.8"
      ]
     },
     "execution_count": 5,
     "metadata": {},
     "output_type": "execute_result"
    }
   ],
   "source": [
    "join_data = pd.merge(trans, cost, left_on = [\"ToFC\", \"FromWH\"], right_on = [\"FCID\", \"WHID\"], how = \"left\")\n",
    "join_data.head()"
   ]
  },
  {
   "cell_type": "markdown",
   "id": "1cb03225",
   "metadata": {},
   "source": [
    "결합한 데이터에 공장 데이터 추가하기 "
   ]
  },
  {
   "cell_type": "code",
   "execution_count": 7,
   "id": "c3e09d19",
   "metadata": {},
   "outputs": [
    {
     "data": {
      "text/html": [
       "<div>\n",
       "<style scoped>\n",
       "    .dataframe tbody tr th:only-of-type {\n",
       "        vertical-align: middle;\n",
       "    }\n",
       "\n",
       "    .dataframe tbody tr th {\n",
       "        vertical-align: top;\n",
       "    }\n",
       "\n",
       "    .dataframe thead th {\n",
       "        text-align: right;\n",
       "    }\n",
       "</style>\n",
       "<table border=\"1\" class=\"dataframe\">\n",
       "  <thead>\n",
       "    <tr style=\"text-align: right;\">\n",
       "      <th></th>\n",
       "      <th>TransactionDate</th>\n",
       "      <th>ToFC</th>\n",
       "      <th>FromWH</th>\n",
       "      <th>Quantity</th>\n",
       "      <th>FCID</th>\n",
       "      <th>WHID</th>\n",
       "      <th>Cost</th>\n",
       "      <th>FCName</th>\n",
       "      <th>FCDemand</th>\n",
       "      <th>FCRegion</th>\n",
       "    </tr>\n",
       "  </thead>\n",
       "  <tbody>\n",
       "    <tr>\n",
       "      <th>0</th>\n",
       "      <td>2019-01-01 02:11:10</td>\n",
       "      <td>FC00004</td>\n",
       "      <td>WH00003</td>\n",
       "      <td>33</td>\n",
       "      <td>FC00004</td>\n",
       "      <td>WH00003</td>\n",
       "      <td>1.1</td>\n",
       "      <td>대전공장</td>\n",
       "      <td>25</td>\n",
       "      <td>북부</td>\n",
       "    </tr>\n",
       "    <tr>\n",
       "      <th>1</th>\n",
       "      <td>2019-01-01 06:12:42</td>\n",
       "      <td>FC00007</td>\n",
       "      <td>WH00006</td>\n",
       "      <td>19</td>\n",
       "      <td>FC00007</td>\n",
       "      <td>WH00006</td>\n",
       "      <td>1.3</td>\n",
       "      <td>부산공장</td>\n",
       "      <td>25</td>\n",
       "      <td>남부</td>\n",
       "    </tr>\n",
       "    <tr>\n",
       "      <th>2</th>\n",
       "      <td>2019-01-01 06:32:32</td>\n",
       "      <td>FC00006</td>\n",
       "      <td>WH00004</td>\n",
       "      <td>31</td>\n",
       "      <td>FC00006</td>\n",
       "      <td>WH00004</td>\n",
       "      <td>0.9</td>\n",
       "      <td>광주공장</td>\n",
       "      <td>30</td>\n",
       "      <td>남부</td>\n",
       "    </tr>\n",
       "    <tr>\n",
       "      <th>3</th>\n",
       "      <td>2019-01-01 07:17:06</td>\n",
       "      <td>FC00002</td>\n",
       "      <td>WH00003</td>\n",
       "      <td>18</td>\n",
       "      <td>FC00002</td>\n",
       "      <td>WH00003</td>\n",
       "      <td>1.6</td>\n",
       "      <td>수원공장</td>\n",
       "      <td>29</td>\n",
       "      <td>북부</td>\n",
       "    </tr>\n",
       "    <tr>\n",
       "      <th>4</th>\n",
       "      <td>2019-01-01 07:52:18</td>\n",
       "      <td>FC00001</td>\n",
       "      <td>WH00002</td>\n",
       "      <td>30</td>\n",
       "      <td>FC00001</td>\n",
       "      <td>WH00002</td>\n",
       "      <td>0.8</td>\n",
       "      <td>서울공장</td>\n",
       "      <td>28</td>\n",
       "      <td>북부</td>\n",
       "    </tr>\n",
       "  </tbody>\n",
       "</table>\n",
       "</div>"
      ],
      "text/plain": [
       "       TransactionDate     ToFC   FromWH  Quantity     FCID     WHID  Cost  \\\n",
       "0  2019-01-01 02:11:10  FC00004  WH00003        33  FC00004  WH00003   1.1   \n",
       "1  2019-01-01 06:12:42  FC00007  WH00006        19  FC00007  WH00006   1.3   \n",
       "2  2019-01-01 06:32:32  FC00006  WH00004        31  FC00006  WH00004   0.9   \n",
       "3  2019-01-01 07:17:06  FC00002  WH00003        18  FC00002  WH00003   1.6   \n",
       "4  2019-01-01 07:52:18  FC00001  WH00002        30  FC00001  WH00002   0.8   \n",
       "\n",
       "  FCName  FCDemand FCRegion  \n",
       "0   대전공장        25       북부  \n",
       "1   부산공장        25       남부  \n",
       "2   광주공장        30       남부  \n",
       "3   수원공장        29       북부  \n",
       "4   서울공장        28       북부  "
      ]
     },
     "execution_count": 7,
     "metadata": {},
     "output_type": "execute_result"
    }
   ],
   "source": [
    "join_data = pd.merge(join_data, factories, left_on = \"ToFC\", right_on = \"FCID\", how = \"left\")\n",
    "join_data.head()"
   ]
  },
  {
   "cell_type": "markdown",
   "id": "a16d93b5",
   "metadata": {},
   "source": [
    "* left_on = \"ToFC\" : 결합의 기준이 되는 열을 지정\n",
    "*  right_on = \"FCID\" : 두 번째 데이터 프레임인 factories의 어떤 열을 사용할 것인지를 지정\n",
    "* how = \"left\" : 왼쪽 데이터 프레임인 join_data에 있는 데이터를 기준으로 결합"
   ]
  },
  {
   "cell_type": "markdown",
   "id": "ab8d3633",
   "metadata": {},
   "source": [
    "**칼럼 순서 정렬**\n",
    "* 창고 데이터 추가 결합 후 컬럼 정렬"
   ]
  },
  {
   "cell_type": "code",
   "execution_count": 11,
   "id": "41b8b88e",
   "metadata": {},
   "outputs": [
    {
     "data": {
      "text/html": [
       "<div>\n",
       "<style scoped>\n",
       "    .dataframe tbody tr th:only-of-type {\n",
       "        vertical-align: middle;\n",
       "    }\n",
       "\n",
       "    .dataframe tbody tr th {\n",
       "        vertical-align: top;\n",
       "    }\n",
       "\n",
       "    .dataframe thead th {\n",
       "        text-align: right;\n",
       "    }\n",
       "</style>\n",
       "<table border=\"1\" class=\"dataframe\">\n",
       "  <thead>\n",
       "    <tr style=\"text-align: right;\">\n",
       "      <th></th>\n",
       "      <th>TransactionDate</th>\n",
       "      <th>Quantity</th>\n",
       "      <th>Cost</th>\n",
       "      <th>ToFC</th>\n",
       "      <th>FCName</th>\n",
       "      <th>FCDemand</th>\n",
       "      <th>FromWH</th>\n",
       "      <th>WHName</th>\n",
       "      <th>WHSupply</th>\n",
       "      <th>WHRegion</th>\n",
       "    </tr>\n",
       "  </thead>\n",
       "  <tbody>\n",
       "    <tr>\n",
       "      <th>0</th>\n",
       "      <td>2019-01-01 02:11:10</td>\n",
       "      <td>33</td>\n",
       "      <td>1.1</td>\n",
       "      <td>FC00004</td>\n",
       "      <td>대전공장</td>\n",
       "      <td>25</td>\n",
       "      <td>WH00003</td>\n",
       "      <td>수원창고</td>\n",
       "      <td>42</td>\n",
       "      <td>북부</td>\n",
       "    </tr>\n",
       "    <tr>\n",
       "      <th>1</th>\n",
       "      <td>2019-01-01 06:12:42</td>\n",
       "      <td>19</td>\n",
       "      <td>1.3</td>\n",
       "      <td>FC00007</td>\n",
       "      <td>부산공장</td>\n",
       "      <td>25</td>\n",
       "      <td>WH00006</td>\n",
       "      <td>광주창고</td>\n",
       "      <td>65</td>\n",
       "      <td>남부</td>\n",
       "    </tr>\n",
       "    <tr>\n",
       "      <th>2</th>\n",
       "      <td>2019-01-01 06:32:32</td>\n",
       "      <td>31</td>\n",
       "      <td>0.9</td>\n",
       "      <td>FC00006</td>\n",
       "      <td>광주공장</td>\n",
       "      <td>30</td>\n",
       "      <td>WH00004</td>\n",
       "      <td>대전창고</td>\n",
       "      <td>60</td>\n",
       "      <td>남부</td>\n",
       "    </tr>\n",
       "    <tr>\n",
       "      <th>3</th>\n",
       "      <td>2019-01-01 07:17:06</td>\n",
       "      <td>18</td>\n",
       "      <td>1.6</td>\n",
       "      <td>FC00002</td>\n",
       "      <td>수원공장</td>\n",
       "      <td>29</td>\n",
       "      <td>WH00003</td>\n",
       "      <td>수원창고</td>\n",
       "      <td>42</td>\n",
       "      <td>북부</td>\n",
       "    </tr>\n",
       "    <tr>\n",
       "      <th>4</th>\n",
       "      <td>2019-01-01 07:52:18</td>\n",
       "      <td>30</td>\n",
       "      <td>0.8</td>\n",
       "      <td>FC00001</td>\n",
       "      <td>서울공장</td>\n",
       "      <td>28</td>\n",
       "      <td>WH00002</td>\n",
       "      <td>용인창고</td>\n",
       "      <td>41</td>\n",
       "      <td>북부</td>\n",
       "    </tr>\n",
       "  </tbody>\n",
       "</table>\n",
       "</div>"
      ],
      "text/plain": [
       "       TransactionDate  Quantity  Cost     ToFC FCName  FCDemand   FromWH  \\\n",
       "0  2019-01-01 02:11:10        33   1.1  FC00004   대전공장        25  WH00003   \n",
       "1  2019-01-01 06:12:42        19   1.3  FC00007   부산공장        25  WH00006   \n",
       "2  2019-01-01 06:32:32        31   0.9  FC00006   광주공장        30  WH00004   \n",
       "3  2019-01-01 07:17:06        18   1.6  FC00002   수원공장        29  WH00003   \n",
       "4  2019-01-01 07:52:18        30   0.8  FC00001   서울공장        28  WH00002   \n",
       "\n",
       "  WHName  WHSupply WHRegion  \n",
       "0   수원창고        42       북부  \n",
       "1   광주창고        65       남부  \n",
       "2   대전창고        60       남부  \n",
       "3   수원창고        42       북부  \n",
       "4   용인창고        41       북부  "
      ]
     },
     "execution_count": 11,
     "metadata": {},
     "output_type": "execute_result"
    }
   ],
   "source": [
    "join_data = pd.merge(join_data, warehouse, left_on = \"FromWH\", right_on = \"WHID\", how = \"left\")\n",
    "join_data = join_data[[\"TransactionDate\", \"Quantity\", \"Cost\", \"ToFC\", \"FCName\", \"FCDemand\", \"FromWH\", \"WHName\", \"WHSupply\", \"WHRegion\"]]\n",
    "join_data.head()"
   ]
  },
  {
   "cell_type": "markdown",
   "id": "8c908bff",
   "metadata": {},
   "source": [
    "창고 정보를 추가한 후에 칼럼을 '운송 날짜, 운송 수량, 비용, 공장 ID, 공장명, 공장 수요, 창고ID, 창고명, 창고 공급량, 지사'로 보기 쉽게 변경 \n",
    "    \n",
    "*연결에 사용하고 남은 FCID 등은 데이터에서 삭제* "
   ]
  },
  {
   "cell_type": "code",
   "execution_count": 12,
   "id": "d41ec2c5",
   "metadata": {},
   "outputs": [
    {
     "data": {
      "text/html": [
       "<div>\n",
       "<style scoped>\n",
       "    .dataframe tbody tr th:only-of-type {\n",
       "        vertical-align: middle;\n",
       "    }\n",
       "\n",
       "    .dataframe tbody tr th {\n",
       "        vertical-align: top;\n",
       "    }\n",
       "\n",
       "    .dataframe thead th {\n",
       "        text-align: right;\n",
       "    }\n",
       "</style>\n",
       "<table border=\"1\" class=\"dataframe\">\n",
       "  <thead>\n",
       "    <tr style=\"text-align: right;\">\n",
       "      <th></th>\n",
       "      <th>TransactionDate</th>\n",
       "      <th>Quantity</th>\n",
       "      <th>Cost</th>\n",
       "      <th>ToFC</th>\n",
       "      <th>FCName</th>\n",
       "      <th>FCDemand</th>\n",
       "      <th>FromWH</th>\n",
       "      <th>WHName</th>\n",
       "      <th>WHSupply</th>\n",
       "      <th>WHRegion</th>\n",
       "    </tr>\n",
       "  </thead>\n",
       "  <tbody>\n",
       "    <tr>\n",
       "      <th>0</th>\n",
       "      <td>2019-01-01 02:11:10</td>\n",
       "      <td>33</td>\n",
       "      <td>1.1</td>\n",
       "      <td>FC00004</td>\n",
       "      <td>대전공장</td>\n",
       "      <td>25</td>\n",
       "      <td>WH00003</td>\n",
       "      <td>수원창고</td>\n",
       "      <td>42</td>\n",
       "      <td>북부</td>\n",
       "    </tr>\n",
       "    <tr>\n",
       "      <th>3</th>\n",
       "      <td>2019-01-01 07:17:06</td>\n",
       "      <td>18</td>\n",
       "      <td>1.6</td>\n",
       "      <td>FC00002</td>\n",
       "      <td>수원공장</td>\n",
       "      <td>29</td>\n",
       "      <td>WH00003</td>\n",
       "      <td>수원창고</td>\n",
       "      <td>42</td>\n",
       "      <td>북부</td>\n",
       "    </tr>\n",
       "    <tr>\n",
       "      <th>4</th>\n",
       "      <td>2019-01-01 07:52:18</td>\n",
       "      <td>30</td>\n",
       "      <td>0.8</td>\n",
       "      <td>FC00001</td>\n",
       "      <td>서울공장</td>\n",
       "      <td>28</td>\n",
       "      <td>WH00002</td>\n",
       "      <td>용인창고</td>\n",
       "      <td>41</td>\n",
       "      <td>북부</td>\n",
       "    </tr>\n",
       "    <tr>\n",
       "      <th>7</th>\n",
       "      <td>2019-01-01 09:09:30</td>\n",
       "      <td>12</td>\n",
       "      <td>1.5</td>\n",
       "      <td>FC00001</td>\n",
       "      <td>서울공장</td>\n",
       "      <td>28</td>\n",
       "      <td>WH00003</td>\n",
       "      <td>수원창고</td>\n",
       "      <td>42</td>\n",
       "      <td>북부</td>\n",
       "    </tr>\n",
       "    <tr>\n",
       "      <th>8</th>\n",
       "      <td>2019-01-01 10:52:55</td>\n",
       "      <td>27</td>\n",
       "      <td>1.5</td>\n",
       "      <td>FC00003</td>\n",
       "      <td>인천공장</td>\n",
       "      <td>31</td>\n",
       "      <td>WH00003</td>\n",
       "      <td>수원창고</td>\n",
       "      <td>42</td>\n",
       "      <td>북부</td>\n",
       "    </tr>\n",
       "  </tbody>\n",
       "</table>\n",
       "</div>"
      ],
      "text/plain": [
       "       TransactionDate  Quantity  Cost     ToFC FCName  FCDemand   FromWH  \\\n",
       "0  2019-01-01 02:11:10        33   1.1  FC00004   대전공장        25  WH00003   \n",
       "3  2019-01-01 07:17:06        18   1.6  FC00002   수원공장        29  WH00003   \n",
       "4  2019-01-01 07:52:18        30   0.8  FC00001   서울공장        28  WH00002   \n",
       "7  2019-01-01 09:09:30        12   1.5  FC00001   서울공장        28  WH00003   \n",
       "8  2019-01-01 10:52:55        27   1.5  FC00003   인천공장        31  WH00003   \n",
       "\n",
       "  WHName  WHSupply WHRegion  \n",
       "0   수원창고        42       북부  \n",
       "3   수원창고        42       북부  \n",
       "4   용인창고        41       북부  \n",
       "7   수원창고        42       북부  \n",
       "8   수원창고        42       북부  "
      ]
     },
     "execution_count": 12,
     "metadata": {},
     "output_type": "execute_result"
    }
   ],
   "source": [
    "# 북부 데이터 추출\n",
    "north = join_data.loc[join_data[\"WHRegion\"] == \"북부\"]\n",
    "north.head()"
   ]
  },
  {
   "cell_type": "code",
   "execution_count": 13,
   "id": "442d74f5",
   "metadata": {},
   "outputs": [
    {
     "data": {
      "text/html": [
       "<div>\n",
       "<style scoped>\n",
       "    .dataframe tbody tr th:only-of-type {\n",
       "        vertical-align: middle;\n",
       "    }\n",
       "\n",
       "    .dataframe tbody tr th {\n",
       "        vertical-align: top;\n",
       "    }\n",
       "\n",
       "    .dataframe thead th {\n",
       "        text-align: right;\n",
       "    }\n",
       "</style>\n",
       "<table border=\"1\" class=\"dataframe\">\n",
       "  <thead>\n",
       "    <tr style=\"text-align: right;\">\n",
       "      <th></th>\n",
       "      <th>TransactionDate</th>\n",
       "      <th>Quantity</th>\n",
       "      <th>Cost</th>\n",
       "      <th>ToFC</th>\n",
       "      <th>FCName</th>\n",
       "      <th>FCDemand</th>\n",
       "      <th>FromWH</th>\n",
       "      <th>WHName</th>\n",
       "      <th>WHSupply</th>\n",
       "      <th>WHRegion</th>\n",
       "    </tr>\n",
       "  </thead>\n",
       "  <tbody>\n",
       "    <tr>\n",
       "      <th>1</th>\n",
       "      <td>2019-01-01 06:12:42</td>\n",
       "      <td>19</td>\n",
       "      <td>1.3</td>\n",
       "      <td>FC00007</td>\n",
       "      <td>부산공장</td>\n",
       "      <td>25</td>\n",
       "      <td>WH00006</td>\n",
       "      <td>광주창고</td>\n",
       "      <td>65</td>\n",
       "      <td>남부</td>\n",
       "    </tr>\n",
       "    <tr>\n",
       "      <th>2</th>\n",
       "      <td>2019-01-01 06:32:32</td>\n",
       "      <td>31</td>\n",
       "      <td>0.9</td>\n",
       "      <td>FC00006</td>\n",
       "      <td>광주공장</td>\n",
       "      <td>30</td>\n",
       "      <td>WH00004</td>\n",
       "      <td>대전창고</td>\n",
       "      <td>60</td>\n",
       "      <td>남부</td>\n",
       "    </tr>\n",
       "    <tr>\n",
       "      <th>5</th>\n",
       "      <td>2019-01-01 08:56:09</td>\n",
       "      <td>31</td>\n",
       "      <td>0.3</td>\n",
       "      <td>FC00005</td>\n",
       "      <td>대구공장</td>\n",
       "      <td>21</td>\n",
       "      <td>WH00005</td>\n",
       "      <td>대구창고</td>\n",
       "      <td>72</td>\n",
       "      <td>남부</td>\n",
       "    </tr>\n",
       "    <tr>\n",
       "      <th>6</th>\n",
       "      <td>2019-01-01 09:00:15</td>\n",
       "      <td>33</td>\n",
       "      <td>0.7</td>\n",
       "      <td>FC00006</td>\n",
       "      <td>광주공장</td>\n",
       "      <td>30</td>\n",
       "      <td>WH00006</td>\n",
       "      <td>광주창고</td>\n",
       "      <td>65</td>\n",
       "      <td>남부</td>\n",
       "    </tr>\n",
       "    <tr>\n",
       "      <th>9</th>\n",
       "      <td>2019-01-01 14:12:51</td>\n",
       "      <td>21</td>\n",
       "      <td>0.7</td>\n",
       "      <td>FC00006</td>\n",
       "      <td>광주공장</td>\n",
       "      <td>30</td>\n",
       "      <td>WH00006</td>\n",
       "      <td>광주창고</td>\n",
       "      <td>65</td>\n",
       "      <td>남부</td>\n",
       "    </tr>\n",
       "  </tbody>\n",
       "</table>\n",
       "</div>"
      ],
      "text/plain": [
       "       TransactionDate  Quantity  Cost     ToFC FCName  FCDemand   FromWH  \\\n",
       "1  2019-01-01 06:12:42        19   1.3  FC00007   부산공장        25  WH00006   \n",
       "2  2019-01-01 06:32:32        31   0.9  FC00006   광주공장        30  WH00004   \n",
       "5  2019-01-01 08:56:09        31   0.3  FC00005   대구공장        21  WH00005   \n",
       "6  2019-01-01 09:00:15        33   0.7  FC00006   광주공장        30  WH00006   \n",
       "9  2019-01-01 14:12:51        21   0.7  FC00006   광주공장        30  WH00006   \n",
       "\n",
       "  WHName  WHSupply WHRegion  \n",
       "1   광주창고        65       남부  \n",
       "2   대전창고        60       남부  \n",
       "5   대구창고        72       남부  \n",
       "6   광주창고        65       남부  \n",
       "9   광주창고        65       남부  "
      ]
     },
     "execution_count": 13,
     "metadata": {},
     "output_type": "execute_result"
    }
   ],
   "source": [
    "# 남부 데이터 추출\n",
    "south = join_data.loc[join_data[\"WHRegion\"] == \"남부\"]\n",
    "south.head()"
   ]
  },
  {
   "cell_type": "markdown",
   "id": "e584c124",
   "metadata": {},
   "source": [
    "### 테크닉 52 : 현재 운송량과 비용 확인 "
   ]
  },
  {
   "cell_type": "markdown",
   "id": "e17cd205",
   "metadata": {},
   "source": [
    "1년간 운송한 부품 수와 비용 집계"
   ]
  },
  {
   "cell_type": "code",
   "execution_count": 15,
   "id": "b0c6efe5",
   "metadata": {},
   "outputs": [
    {
     "name": "stdout",
     "output_type": "stream",
     "text": [
      "북부지사 총 비용 : 2189.3만원\n",
      "남부지사 총 비용 : 2062.0만원\n"
     ]
    }
   ],
   "source": [
    "# 지사의 비용합계 계산 \n",
    "print(\"북부지사 총 비용 : \" + str(north[\"Cost\"].sum()) + \"만원\")\n",
    "print(\"남부지사 총 비용 : \" + str(south[\"Cost\"].sum()) + \"만원\")"
   ]
  },
  {
   "cell_type": "code",
   "execution_count": 16,
   "id": "aa3500e4",
   "metadata": {},
   "outputs": [
    {
     "name": "stdout",
     "output_type": "stream",
     "text": [
      "북부지사의 총부품 운송개수 : 49146개\n",
      "남부지사의 총부품 운송개수 : 50214개\n"
     ]
    }
   ],
   "source": [
    "# 지사의 총운송개수\n",
    "print(\"북부지사의 총부품 운송개수 : \" + str(north[\"Quantity\"].sum()) + \"개\")\n",
    "print(\"남부지사의 총부품 운송개수 : \" + str(south[\"Quantity\"].sum()) + \"개\")"
   ]
  },
  {
   "cell_type": "markdown",
   "id": "cbebd31f",
   "metadata": {},
   "source": [
    "1년간의 운송 실적으로 실제로 운송한 부품의 수 집계(단위 : 개)\n",
    "\n",
    "**북부지사보다 남부지사 쪽이 부품을 더 많이 운송하고 있음 확인**"
   ]
  },
  {
   "cell_type": "code",
   "execution_count": 17,
   "id": "c2bd500c",
   "metadata": {},
   "outputs": [
    {
     "name": "stdout",
     "output_type": "stream",
     "text": [
      "북부지사의 부품 1개당 운송 비용 : 445원\n",
      "남부지사의 부품 1개당 운송 비용 : 410원\n"
     ]
    }
   ],
   "source": [
    "# 부품 1개당 운송비용\n",
    "tmp = (north[\"Cost\"].sum() / north[\"Quantity\"].sum()) * 10000\n",
    "print(\"북부지사의 부품 1개당 운송 비용 : \" + str(int(tmp)) + \"원\")\n",
    "tmp = (south[\"Cost\"].sum() / south[\"Quantity\"].sum()) * 10000\n",
    "print(\"남부지사의 부품 1개당 운송 비용 : \" + str(int(tmp)) + \"원\")"
   ]
  },
  {
   "cell_type": "markdown",
   "id": "d7f71031",
   "metadata": {},
   "source": [
    "**남부지사쪽이 1개당 운송 비용이 낮음 확인**\n",
    "\n",
    "운송비용은 '창고 → 공장' 간에 발생하기 때문에 단순히 운송 비용 절감을 하는 것만으로도 전체 물류 비용 억제 가능 \n",
    "\n",
    "* 각 지사의 평균 운송 비용 계산"
   ]
  },
  {
   "cell_type": "code",
   "execution_count": 21,
   "id": "54a213bd",
   "metadata": {},
   "outputs": [
    {
     "name": "stdout",
     "output_type": "stream",
     "text": [
      "북부지사의 평균 운송 비용 : 1.075원\n",
      "남부지사의 평균 운송 비용 : 1.05원\n"
     ]
    }
   ],
   "source": [
    "# 비용을 지사별로 집계 \n",
    "cost_chk = pd.merge(cost, factories, on = \"FCID\", how = \"left\")\n",
    "#평균\n",
    "print(\"북부지사의 평균 운송 비용 : \" + str(cost_chk[\"Cost\"].loc[cost_chk[\"FCRegion\"] == \"북부\"].mean()) + \"원\")\n",
    "print(\"남부지사의 평균 운송 비용 : \" + str(cost_chk[\"Cost\"].loc[cost_chk[\"FCRegion\"] == \"남부\"].mean()) + \"원\")"
   ]
  },
  {
   "cell_type": "markdown",
   "id": "e1518d90",
   "metadata": {},
   "source": [
    "각 지사의 평균 운송 비용은 거의 같으므로 북부지사보다 남부지사 쪽이 '효율 높게' 부품을 운송하고 있다는 것을 확인 "
   ]
  },
  {
   "cell_type": "markdown",
   "id": "f5081f50",
   "metadata": {},
   "source": [
    "### 테크닉 53 : 네트워크를 가시화 "
   ]
  },
  {
   "cell_type": "markdown",
   "id": "900a5c8f",
   "metadata": {},
   "source": [
    "최적 경로를 가시화하는 방법인 네트워크 가시화 \n",
    "\n",
    "* 네트워크 가시화에 유용한 라이브러리 : NetworkX"
   ]
  },
  {
   "cell_type": "code",
   "execution_count": 23,
   "id": "a62d51a5",
   "metadata": {},
   "outputs": [
    {
     "data": {
      "image/png": "[encoded data removed]",
      "text/plain": [
       "<Figure size 640x480 with 1 Axes>"
      ]
     },
     "metadata": {},
     "output_type": "display_data"
    }
   ],
   "source": [
    "import networkx as nx\n",
    "import matplotlib.pyplot as plt\n",
    "\n",
    "# 그래프 객체 생성 \n",
    "G = nx.Graph()\n",
    "\n",
    "#노드 설정 \n",
    "G.add_node(\"nodeA\")\n",
    "G.add_node(\"nodeB\")\n",
    "G.add_node(\"nodeC\")\n",
    "\n",
    "# 엣지 설정 \n",
    "G.add_edge(\"nodeA\", \"nodeB\")\n",
    "G.add_edge(\"nodeB\", \"nodeC\")\n",
    "G.add_edge(\"nodeC\", \"nodeA\")\n",
    "\n",
    "# 좌표 설정 \n",
    "pos = {}\n",
    "pos[\"nodeA\"] = (0, 0)\n",
    "pos[\"nodeB\"] = (1, 1)\n",
    "pos[\"nodeC\"] = (0, 1)\n",
    "\n",
    "# 그리기\n",
    "nx.draw(G, pos)\n",
    "\n",
    "# 표시 \n",
    "plt.show()\n",
    "\n"
   ]
  },
  {
   "cell_type": "markdown",
   "id": "70687b00",
   "metadata": {},
   "source": [
    "① 그래프 객체 선언\n",
    "\n",
    "② 노드(nodeA, nodeB, nodeC)와 각각을 연결할 엣지 설정 \n",
    "\n",
    "③ 노드의 좌표 설정 \n",
    "\n",
    "④ 함수 draw 이용해서 그리기 \n",
    "\n",
    "**네트워크를 가시화해서 창고에서 대리점까지의 물류를 표현 가능**\n",
    "\n",
    "    → 숫자만으로 알기 어려운 물류의 쏠림과 같은 전체 그림 파악 가능"
   ]
  },
  {
   "cell_type": "markdown",
   "id": "9c41da02",
   "metadata": {},
   "source": [
    "### 테크닉 54 : 네트워크에 노드 추가 "
   ]
  },
  {
   "cell_type": "code",
   "execution_count": 24,
   "id": "5d723aec",
   "metadata": {},
   "outputs": [
    {
     "data": {
      "image/png": "[encoded data removed]",
      "text/plain": [
       "<Figure size 640x480 with 1 Axes>"
      ]
     },
     "metadata": {},
     "output_type": "display_data"
    }
   ],
   "source": [
    "G.add_node(\"nodeD\")\n",
    "G.add_edge(\"nodeA\", \"nodeD\")\n",
    "pos[\"nodeD\"] = (1, 0)\n",
    "nx.draw(G, pos, with_labels = True) # 노드에 붗은 이름(라벨) 표시"
   ]
  },
  {
   "cell_type": "markdown",
   "id": "f1d39bd2",
   "metadata": {},
   "source": [
    "### 테크닉 55 : 경로에 가중치 부여"
   ]
  },
  {
   "cell_type": "markdown",
   "id": "d8675de4",
   "metadata": {},
   "source": [
    "가중치를 이용해서 노드 사이의 엣지 굵기를 바꾸면 물류의 최적 경로를 알기 쉽게 가시화 가능 "
   ]
  },
  {
   "cell_type": "code",
   "execution_count": 27,
   "id": "2ffb380b",
   "metadata": {},
   "outputs": [
    {
     "name": "stdout",
     "output_type": "stream",
     "text": [
      "(A, B) = 1.43353\n",
      "(A, C) = 9.44669\n",
      "(A, D) = 5.21848\n",
      "(A, E) = 0.0\n",
      "(B, C) = 4.5615\n",
      "(B, D) = 5.68434\n",
      "(B, E) = 0.0\n",
      "(C, D) = 9.43748\n",
      "(C, E) = 0.0\n",
      "(D, E) = 6.66767\n"
     ]
    },
    {
     "data": {
      "image/png": "[encoded data removed]",
      "text/plain": [
       "<Figure size 640x480 with 1 Axes>"
      ]
     },
     "metadata": {},
     "output_type": "display_data"
    }
   ],
   "source": [
    "import pandas as pd\n",
    "import numpy as np\n",
    "import matplotlib.pyplot as plt\n",
    "import networkx as nx\n",
    "\n",
    "# 데이터 불러오기\n",
    "df_w = pd.read_csv('network_weight.csv')\n",
    "df_p = pd.read_csv('network_pos.csv')\n",
    "\n",
    "# 그래프 객체 생성\n",
    "G = nx.Graph()\n",
    "\n",
    "# 'df_w'의 열 이름을 노드로 추가하여 그래프에 노드를 설정\n",
    "for i in range(len(df_w.columns)):\n",
    "    G.add_node(df_w.columns[i])\n",
    "\n",
    "# 엣지 설정 & 가중치 리스트화\n",
    "size = 10 # 엣지 가중치에 사용할 크기를 설정\n",
    "edge_weights = [] # 엣지 가중치를 저장할 빈 리스트 \n",
    "num_pre = 0 # 이전 엣지 수를 저장하는 변수를 초기화\n",
    "# 엣지 가중치 확인용 번역자 추가 코드\n",
    "name = ['A','B','C','D','E'] \n",
    "\n",
    "for i in range(len(df_w.columns)): #  첫 번째 루프는 노드 i\n",
    "    for j in range(len(df_w.columns)): # 두 번째 루프는 노드 j\n",
    "        if not (i==j): # 두 번째 루프는 노드 j\n",
    "            # 그래프 G에 i와 j 사이의 엣지를 추가\n",
    "            G.add_edge(df_w.columns[i],df_w.columns[j])\n",
    "            # 새로운 엣지가 추가되었는지 확인\n",
    "            if num_pre<len(G.edges):\n",
    "                # 현재 엣지 수를 저장\n",
    "                num_pre = len(G.edges)\n",
    "                # 엣지 가중치 추가\n",
    "                edge_weights.append(df_w.iloc[i][j]*size)\n",
    "               \n",
    "                # 엣지 가중치 확인용 번역자 추가 코드\n",
    "                print(f'({name[i]}, {name[j]}) = {np.round(edge_weights[-1],5)}')\n",
    "               \n",
    "\n",
    "# 좌표 설정 : 좌표를 저장할 빈 딕셔너리\n",
    "pos = {}\n",
    "# 노드의 좌표를 설정\n",
    "for i in range(len(df_w.columns)):\n",
    "    # 현재 노드의 이름\n",
    "    node = df_w.columns[i]\n",
    "    # 노드의 좌표를 pos 딕셔너리에 저장\n",
    "    pos[node] = (df_p[node][0],df_p[node][1])\n",
    "\n",
    "# 그리기\n",
    "nx.draw(G, pos, with_labels=True,font_size=16, node_size = 1000, node_color='k', font_color='w', width=edge_weights)\n",
    "\n",
    "# 표시\n",
    "plt.show()"
   ]
  },
  {
   "cell_type": "markdown",
   "id": "433739bf",
   "metadata": {},
   "source": [
    "### 테크닉 56 : 운송 경로 정보 불러오기"
   ]
  },
  {
   "cell_type": "code",
   "execution_count": 30,
   "id": "fa1eea50",
   "metadata": {},
   "outputs": [
    {
     "data": {
      "text/html": [
       "<div>\n",
       "<style scoped>\n",
       "    .dataframe tbody tr th:only-of-type {\n",
       "        vertical-align: middle;\n",
       "    }\n",
       "\n",
       "    .dataframe tbody tr th {\n",
       "        vertical-align: top;\n",
       "    }\n",
       "\n",
       "    .dataframe thead th {\n",
       "        text-align: right;\n",
       "    }\n",
       "</style>\n",
       "<table border=\"1\" class=\"dataframe\">\n",
       "  <thead>\n",
       "    <tr style=\"text-align: right;\">\n",
       "      <th></th>\n",
       "      <th>F1</th>\n",
       "      <th>F2</th>\n",
       "      <th>F3</th>\n",
       "      <th>F4</th>\n",
       "    </tr>\n",
       "    <tr>\n",
       "      <th>공장</th>\n",
       "      <th></th>\n",
       "      <th></th>\n",
       "      <th></th>\n",
       "      <th></th>\n",
       "    </tr>\n",
       "  </thead>\n",
       "  <tbody>\n",
       "    <tr>\n",
       "      <th>W1</th>\n",
       "      <td>15</td>\n",
       "      <td>15</td>\n",
       "      <td>0</td>\n",
       "      <td>5</td>\n",
       "    </tr>\n",
       "    <tr>\n",
       "      <th>W2</th>\n",
       "      <td>5</td>\n",
       "      <td>0</td>\n",
       "      <td>30</td>\n",
       "      <td>5</td>\n",
       "    </tr>\n",
       "    <tr>\n",
       "      <th>W3</th>\n",
       "      <td>10</td>\n",
       "      <td>15</td>\n",
       "      <td>2</td>\n",
       "      <td>15</td>\n",
       "    </tr>\n",
       "  </tbody>\n",
       "</table>\n",
       "</div>"
      ],
      "text/plain": [
       "    F1  F2  F3  F4\n",
       "공장                \n",
       "W1  15  15   0   5\n",
       "W2   5   0  30   5\n",
       "W3  10  15   2  15"
      ]
     },
     "execution_count": 30,
     "metadata": {},
     "output_type": "execute_result"
    }
   ],
   "source": [
    "import pandas as pd \n",
    "# 데이터 불러오기 \n",
    "df_tr = pd.read_csv('trans_route.csv', index_col = \"공장\")\n",
    "df_tr.head()"
   ]
  },
  {
   "cell_type": "markdown",
   "id": "26feaa1d",
   "metadata": {},
   "source": [
    "### 테크닉 57 : 운송 경로 정보로 네트워크 가시화 "
   ]
  },
  {
   "cell_type": "markdown",
   "id": "ca0f6406",
   "metadata": {},
   "source": [
    "* trans_route.csv : 창고 W1, W2, W3에서 공장 F1, F2, F3, F4로 운송량 기록한 운송 경로\n",
    "* trans_route_pos.csv : 창고(W) 및 공장(F)의 위치 정보"
   ]
  },
  {
   "cell_type": "code",
   "execution_count": 43,
   "id": "800c6e6a",
   "metadata": {},
   "outputs": [
    {
     "data": {
      "text/html": [
       "<div>\n",
       "<style scoped>\n",
       "    .dataframe tbody tr th:only-of-type {\n",
       "        vertical-align: middle;\n",
       "    }\n",
       "\n",
       "    .dataframe tbody tr th {\n",
       "        vertical-align: top;\n",
       "    }\n",
       "\n",
       "    .dataframe thead th {\n",
       "        text-align: right;\n",
       "    }\n",
       "</style>\n",
       "<table border=\"1\" class=\"dataframe\">\n",
       "  <thead>\n",
       "    <tr style=\"text-align: right;\">\n",
       "      <th></th>\n",
       "      <th>F1</th>\n",
       "      <th>F2</th>\n",
       "      <th>F3</th>\n",
       "      <th>F4</th>\n",
       "    </tr>\n",
       "    <tr>\n",
       "      <th>공장</th>\n",
       "      <th></th>\n",
       "      <th></th>\n",
       "      <th></th>\n",
       "      <th></th>\n",
       "    </tr>\n",
       "  </thead>\n",
       "  <tbody>\n",
       "    <tr>\n",
       "      <th>W1</th>\n",
       "      <td>15</td>\n",
       "      <td>15</td>\n",
       "      <td>0</td>\n",
       "      <td>5</td>\n",
       "    </tr>\n",
       "    <tr>\n",
       "      <th>W2</th>\n",
       "      <td>5</td>\n",
       "      <td>0</td>\n",
       "      <td>30</td>\n",
       "      <td>5</td>\n",
       "    </tr>\n",
       "    <tr>\n",
       "      <th>W3</th>\n",
       "      <td>10</td>\n",
       "      <td>15</td>\n",
       "      <td>2</td>\n",
       "      <td>15</td>\n",
       "    </tr>\n",
       "  </tbody>\n",
       "</table>\n",
       "</div>"
      ],
      "text/plain": [
       "    F1  F2  F3  F4\n",
       "공장                \n",
       "W1  15  15   0   5\n",
       "W2   5   0  30   5\n",
       "W3  10  15   2  15"
      ]
     },
     "metadata": {},
     "output_type": "display_data"
    },
    {
     "data": {
      "text/html": [
       "<div>\n",
       "<style scoped>\n",
       "    .dataframe tbody tr th:only-of-type {\n",
       "        vertical-align: middle;\n",
       "    }\n",
       "\n",
       "    .dataframe tbody tr th {\n",
       "        vertical-align: top;\n",
       "    }\n",
       "\n",
       "    .dataframe thead th {\n",
       "        text-align: right;\n",
       "    }\n",
       "</style>\n",
       "<table border=\"1\" class=\"dataframe\">\n",
       "  <thead>\n",
       "    <tr style=\"text-align: right;\">\n",
       "      <th></th>\n",
       "      <th>W1</th>\n",
       "      <th>W2</th>\n",
       "      <th>W3</th>\n",
       "      <th>F1</th>\n",
       "      <th>F2</th>\n",
       "      <th>F3</th>\n",
       "      <th>F4</th>\n",
       "    </tr>\n",
       "  </thead>\n",
       "  <tbody>\n",
       "    <tr>\n",
       "      <th>0</th>\n",
       "      <td>0</td>\n",
       "      <td>0</td>\n",
       "      <td>0</td>\n",
       "      <td>4.0</td>\n",
       "      <td>4.0</td>\n",
       "      <td>4.0</td>\n",
       "      <td>4.0</td>\n",
       "    </tr>\n",
       "    <tr>\n",
       "      <th>1</th>\n",
       "      <td>1</td>\n",
       "      <td>2</td>\n",
       "      <td>3</td>\n",
       "      <td>0.5</td>\n",
       "      <td>1.5</td>\n",
       "      <td>2.5</td>\n",
       "      <td>3.5</td>\n",
       "    </tr>\n",
       "  </tbody>\n",
       "</table>\n",
       "</div>"
      ],
      "text/plain": [
       "   W1  W2  W3   F1   F2   F3   F4\n",
       "0   0   0   0  4.0  4.0  4.0  4.0\n",
       "1   1   2   3  0.5  1.5  2.5  3.5"
      ]
     },
     "metadata": {},
     "output_type": "display_data"
    }
   ],
   "source": [
    "import pandas as pd\n",
    "import matplotlib.pyplot as plt\n",
    "import networkx as nx\n",
    "\n",
    "df_tr = pd.read_csv('trans_route.csv', index_col = \"공장\")\n",
    "df_pos = pd.read_csv('trans_route_pos.csv')\n",
    "display(df_tr, df_pos)"
   ]
  },
  {
   "cell_type": "code",
   "execution_count": 42,
   "id": "4149e29b",
   "metadata": {},
   "outputs": [
    {
     "data": {
      "image/png": "[encoded data removed]",
      "text/plain": [
       "<Figure size 640x480 with 1 Axes>"
      ]
     },
     "metadata": {},
     "output_type": "display_data"
    }
   ],
   "source": [
    "import pandas as pd\n",
    "import matplotlib.pyplot as plt\n",
    "import networkx as nx\n",
    "\n",
    "df_tr = pd.read_csv('trans_route.csv', index_col = \"공장\")\n",
    "df_pos = pd.read_csv('trans_route_pos.csv')\n",
    "\n",
    "# 그래프 객체 생성\n",
    "G = nx.Graph()\n",
    "\n",
    "# 노드 설정 \n",
    "for i in range(len(df_pos.columns)) :\n",
    "    G.add_node(df_pos.columns[i])\n",
    "    \n",
    "# 엣지 설정 및 가중치 리스트화 \n",
    "num_pre = 0\n",
    "edge_weights = []\n",
    "size = 0.1\n",
    "\n",
    "for i in range(len(df_pos.columns)) :\n",
    "    for j in range(len(df_pos.columns)) :\n",
    "        if not (i == j ):\n",
    "            # 엣지 추가 \n",
    "            G.add_edge(df_pos.columns[i], df_pos.columns[j]) \n",
    "            # 엣지 가중치 추가 \n",
    "            if num_pre < len(G.edges) : \n",
    "                num_pre = len(G.edges) \n",
    "                weight = 0 \n",
    "                if (df_pos.columns[i] in df_tr.columns)and(df_pos.columns[j] in df_tr.index) :\n",
    "                    # 만약 df_tr 데이터프레임에서 i에서 j로 향하는 엣지의 데이터가 존재한다면, \n",
    "                    # 이 데이터를 가져와서 weight에 할당\n",
    "                    if df_tr[df_pos.columns[i]][df_pos.columns[j]] :\n",
    "                        # df_tr 데이터프레임에서 i에서 j로 가는 엣지의 가중치\n",
    "                        weight = df_tr[df_pos.columns[i]][df_pos.columns[j]] * size \n",
    "                        \n",
    "                elif(df_pos.columns[j] in df_tr.columns)and(df_pos.columns[i] in df_tr.index) :\n",
    "                    if df_tr[df_pos.columns[j]][df_pos.columns[i]] :\n",
    "                        weight = df_tr[df_pos.columns[j]][df_pos.columns[i]] * size \n",
    "                # weight 변수에 할당된 엣지 가중치를 edge_weights 리스트에 추가\n",
    "                edge_weights.append(weight)\n",
    "                \n",
    "# 좌표 설정 \n",
    "pos = {}\n",
    "for i in range(len(df_pos.columns)) :\n",
    "    node = df_pos.columns[i]\n",
    "    pos[node] = (df_pos[node][0], df_pos[node][1])\n",
    "    \n",
    "\n",
    "# 그리기  (with_labels = True : 노드에 레이블 (이름)을 표시)\n",
    "nx.draw(G, pos, with_labels = True, font_size = 16, node_size = 1000, node_color = 'k', font_color = 'w', \n",
    "       width = edge_weights)\n",
    "\n",
    "               \n",
    "               \n",
    "# 표시 \n",
    "plt.show()"
   ]
  },
  {
   "cell_type": "markdown",
   "id": "3d12f6be",
   "metadata": {},
   "source": [
    "### 테크닉 58 : 운송 비용 함수 작성"
   ]
  },
  {
   "cell_type": "markdown",
   "id": "24722e42",
   "metadata": {},
   "source": [
    "* '최적화 문제' 푸는 패턴 \n",
    "\n",
    "① 최소화(or 최대화)하고 싶은 것을 목적 함수로 정의 → **목적 함수 정의**\n",
    "\n",
    "② 다음으로 최소화(or 최대화)를 합에 있어 지켜야 할 조건 정의 → **제약 조건 정의**\n",
    "\n",
    "**생각할 수 있는 여러가지 운송 경로의 조합 중에서 제약 조건을 만족시키면서 목적함수를 최소화(or 최대화)하는 조합을 선택하는 것이 최적화 문제의 큰 흐름**"
   ]
  },
  {
   "cell_type": "markdown",
   "id": "a2ad1b74",
   "metadata": {},
   "source": [
    "* 가설 : 운송 비용을 낮출 효율적인 운송 경로가 존재한다.\n",
    "\n",
    "*가설을 입증하고 운송 경로를 최적화하기 위해 운송비용을 계산할 함수를 작성하고 그것을 목적함수로 정의*"
   ]
  },
  {
   "cell_type": "code",
   "execution_count": 48,
   "id": "278a6a46",
   "metadata": {},
   "outputs": [
    {
     "data": {
      "text/html": [
       "<div>\n",
       "<style scoped>\n",
       "    .dataframe tbody tr th:only-of-type {\n",
       "        vertical-align: middle;\n",
       "    }\n",
       "\n",
       "    .dataframe tbody tr th {\n",
       "        vertical-align: top;\n",
       "    }\n",
       "\n",
       "    .dataframe thead th {\n",
       "        text-align: right;\n",
       "    }\n",
       "</style>\n",
       "<table border=\"1\" class=\"dataframe\">\n",
       "  <thead>\n",
       "    <tr style=\"text-align: right;\">\n",
       "      <th></th>\n",
       "      <th>F1</th>\n",
       "      <th>F2</th>\n",
       "      <th>F3</th>\n",
       "      <th>F4</th>\n",
       "    </tr>\n",
       "    <tr>\n",
       "      <th>공장</th>\n",
       "      <th></th>\n",
       "      <th></th>\n",
       "      <th></th>\n",
       "      <th></th>\n",
       "    </tr>\n",
       "  </thead>\n",
       "  <tbody>\n",
       "    <tr>\n",
       "      <th>W1</th>\n",
       "      <td>10</td>\n",
       "      <td>10</td>\n",
       "      <td>11</td>\n",
       "      <td>27</td>\n",
       "    </tr>\n",
       "    <tr>\n",
       "      <th>W2</th>\n",
       "      <td>18</td>\n",
       "      <td>21</td>\n",
       "      <td>12</td>\n",
       "      <td>14</td>\n",
       "    </tr>\n",
       "    <tr>\n",
       "      <th>W3</th>\n",
       "      <td>15</td>\n",
       "      <td>12</td>\n",
       "      <td>14</td>\n",
       "      <td>12</td>\n",
       "    </tr>\n",
       "  </tbody>\n",
       "</table>\n",
       "</div>"
      ],
      "text/plain": [
       "    F1  F2  F3  F4\n",
       "공장                \n",
       "W1  10  10  11  27\n",
       "W2  18  21  12  14\n",
       "W3  15  12  14  12"
      ]
     },
     "metadata": {},
     "output_type": "display_data"
    },
    {
     "data": {
      "text/html": [
       "<div>\n",
       "<style scoped>\n",
       "    .dataframe tbody tr th:only-of-type {\n",
       "        vertical-align: middle;\n",
       "    }\n",
       "\n",
       "    .dataframe tbody tr th {\n",
       "        vertical-align: top;\n",
       "    }\n",
       "\n",
       "    .dataframe thead th {\n",
       "        text-align: right;\n",
       "    }\n",
       "</style>\n",
       "<table border=\"1\" class=\"dataframe\">\n",
       "  <thead>\n",
       "    <tr style=\"text-align: right;\">\n",
       "      <th></th>\n",
       "      <th>F1</th>\n",
       "      <th>F2</th>\n",
       "      <th>F3</th>\n",
       "      <th>F4</th>\n",
       "    </tr>\n",
       "    <tr>\n",
       "      <th>공장</th>\n",
       "      <th></th>\n",
       "      <th></th>\n",
       "      <th></th>\n",
       "      <th></th>\n",
       "    </tr>\n",
       "  </thead>\n",
       "  <tbody>\n",
       "    <tr>\n",
       "      <th>W1</th>\n",
       "      <td>10</td>\n",
       "      <td>10</td>\n",
       "      <td>11</td>\n",
       "      <td>27</td>\n",
       "    </tr>\n",
       "    <tr>\n",
       "      <th>W2</th>\n",
       "      <td>18</td>\n",
       "      <td>21</td>\n",
       "      <td>12</td>\n",
       "      <td>14</td>\n",
       "    </tr>\n",
       "    <tr>\n",
       "      <th>W3</th>\n",
       "      <td>15</td>\n",
       "      <td>12</td>\n",
       "      <td>14</td>\n",
       "      <td>12</td>\n",
       "    </tr>\n",
       "  </tbody>\n",
       "</table>\n",
       "</div>"
      ],
      "text/plain": [
       "    F1  F2  F3  F4\n",
       "공장                \n",
       "W1  10  10  11  27\n",
       "W2  18  21  12  14\n",
       "W3  15  12  14  12"
      ]
     },
     "metadata": {},
     "output_type": "display_data"
    }
   ],
   "source": [
    "import pandas as pd\n",
    "\n",
    "# 데이터 불러오기 \n",
    "df_tr = pd.read_csv('trans_route.csv', index_col = \"공장\")\n",
    "df_tc = pd.read_csv('trans_cost.csv', index_col = \"공장\")\n",
    "display(df_tc, df_tc)"
   ]
  },
  {
   "cell_type": "markdown",
   "id": "92979a9e",
   "metadata": {},
   "source": [
    "**운송 비용 계산**\n",
    "\n",
    "     - (운송 경로의 운송량 * 비용) 을 전부 더해서 계산 "
   ]
  },
  {
   "cell_type": "code",
   "execution_count": 64,
   "id": "ad514a58",
   "metadata": {},
   "outputs": [
    {
     "name": "stdout",
     "output_type": "stream",
     "text": [
      "총 운송 비용 :1493만 원\n"
     ]
    }
   ],
   "source": [
    "# 운송 비용 함수 \n",
    "def trans_cost(df_tr, df_tc) :\n",
    "    cost = 0 \n",
    "    for i in range(len(df_tc.index)) : # i : W(창고)\n",
    "        for j in range(len(df_tr.columns)) : # j : F(공장)\n",
    "            cost += df_tr.iloc[i][j] * df_tc.iloc[i][j]\n",
    "    \n",
    "    return cost\n",
    "\n",
    "print(\"총 운송 비용 :\" + str(trans_cost(df_tr, df_tc)) + \"만 원\")"
   ]
  },
  {
   "cell_type": "markdown",
   "id": "fbad3ec9",
   "metadata": {},
   "source": [
    "### 테크닉 59 : 제약 조건 "
   ]
  },
  {
   "cell_type": "markdown",
   "id": "c86b2166",
   "metadata": {},
   "source": [
    "운송 비용 함수를 최적화하기 위해 필요한 제약 조건 \n",
    "\n",
    "각 창고는 공급 가능한 부품 수에 제한이 있고, 각 공장은 채워야 할 최소한의 제품 제조량이 있다. \n"
   ]
  },
  {
   "cell_type": "code",
   "execution_count": 55,
   "id": "e442452e",
   "metadata": {},
   "outputs": [
    {
     "data": {
      "text/html": [
       "<div>\n",
       "<style scoped>\n",
       "    .dataframe tbody tr th:only-of-type {\n",
       "        vertical-align: middle;\n",
       "    }\n",
       "\n",
       "    .dataframe tbody tr th {\n",
       "        vertical-align: top;\n",
       "    }\n",
       "\n",
       "    .dataframe thead th {\n",
       "        text-align: right;\n",
       "    }\n",
       "</style>\n",
       "<table border=\"1\" class=\"dataframe\">\n",
       "  <thead>\n",
       "    <tr style=\"text-align: right;\">\n",
       "      <th></th>\n",
       "      <th>F1</th>\n",
       "      <th>F2</th>\n",
       "      <th>F3</th>\n",
       "      <th>F4</th>\n",
       "    </tr>\n",
       "    <tr>\n",
       "      <th>공장</th>\n",
       "      <th></th>\n",
       "      <th></th>\n",
       "      <th></th>\n",
       "      <th></th>\n",
       "    </tr>\n",
       "  </thead>\n",
       "  <tbody>\n",
       "    <tr>\n",
       "      <th>W1</th>\n",
       "      <td>15</td>\n",
       "      <td>15</td>\n",
       "      <td>0</td>\n",
       "      <td>5</td>\n",
       "    </tr>\n",
       "    <tr>\n",
       "      <th>W2</th>\n",
       "      <td>5</td>\n",
       "      <td>0</td>\n",
       "      <td>30</td>\n",
       "      <td>5</td>\n",
       "    </tr>\n",
       "    <tr>\n",
       "      <th>W3</th>\n",
       "      <td>10</td>\n",
       "      <td>15</td>\n",
       "      <td>2</td>\n",
       "      <td>15</td>\n",
       "    </tr>\n",
       "  </tbody>\n",
       "</table>\n",
       "</div>"
      ],
      "text/plain": [
       "    F1  F2  F3  F4\n",
       "공장                \n",
       "W1  15  15   0   5\n",
       "W2   5   0  30   5\n",
       "W3  10  15   2  15"
      ]
     },
     "metadata": {},
     "output_type": "display_data"
    },
    {
     "data": {
      "text/html": [
       "<div>\n",
       "<style scoped>\n",
       "    .dataframe tbody tr th:only-of-type {\n",
       "        vertical-align: middle;\n",
       "    }\n",
       "\n",
       "    .dataframe tbody tr th {\n",
       "        vertical-align: top;\n",
       "    }\n",
       "\n",
       "    .dataframe thead th {\n",
       "        text-align: right;\n",
       "    }\n",
       "</style>\n",
       "<table border=\"1\" class=\"dataframe\">\n",
       "  <thead>\n",
       "    <tr style=\"text-align: right;\">\n",
       "      <th></th>\n",
       "      <th>F1</th>\n",
       "      <th>F2</th>\n",
       "      <th>F3</th>\n",
       "      <th>F4</th>\n",
       "    </tr>\n",
       "  </thead>\n",
       "  <tbody>\n",
       "    <tr>\n",
       "      <th>0</th>\n",
       "      <td>28</td>\n",
       "      <td>29</td>\n",
       "      <td>31</td>\n",
       "      <td>25</td>\n",
       "    </tr>\n",
       "  </tbody>\n",
       "</table>\n",
       "</div>"
      ],
      "text/plain": [
       "   F1  F2  F3  F4\n",
       "0  28  29  31  25"
      ]
     },
     "metadata": {},
     "output_type": "display_data"
    },
    {
     "data": {
      "text/html": [
       "<div>\n",
       "<style scoped>\n",
       "    .dataframe tbody tr th:only-of-type {\n",
       "        vertical-align: middle;\n",
       "    }\n",
       "\n",
       "    .dataframe tbody tr th {\n",
       "        vertical-align: top;\n",
       "    }\n",
       "\n",
       "    .dataframe thead th {\n",
       "        text-align: right;\n",
       "    }\n",
       "</style>\n",
       "<table border=\"1\" class=\"dataframe\">\n",
       "  <thead>\n",
       "    <tr style=\"text-align: right;\">\n",
       "      <th></th>\n",
       "      <th>W1</th>\n",
       "      <th>W2</th>\n",
       "      <th>W3</th>\n",
       "    </tr>\n",
       "  </thead>\n",
       "  <tbody>\n",
       "    <tr>\n",
       "      <th>0</th>\n",
       "      <td>35</td>\n",
       "      <td>41</td>\n",
       "      <td>42</td>\n",
       "    </tr>\n",
       "  </tbody>\n",
       "</table>\n",
       "</div>"
      ],
      "text/plain": [
       "   W1  W2  W3\n",
       "0  35  41  42"
      ]
     },
     "metadata": {},
     "output_type": "display_data"
    }
   ],
   "source": [
    "# 데이터 불러오기 \n",
    "df_tr = pd.read_csv('trans_route.csv', index_col = \"공장\")\n",
    "df_demand = pd.read_csv('demand.csv')\n",
    "df_supply = pd.read_csv('supply.csv')\n",
    "display(df_tr, df_demand, df_supply)"
   ]
  },
  {
   "cell_type": "code",
   "execution_count": 61,
   "id": "7d0e752b",
   "metadata": {},
   "outputs": [
    {
     "name": "stdout",
     "output_type": "stream",
     "text": [
      "F1으로 운송량 :30(수요량 :28)\n",
      "수요량을 만족시키고 있음\n",
      "F2으로 운송량 :30(수요량 :29)\n",
      "수요량을 만족시키고 있음\n",
      "F3으로 운송량 :32(수요량 :31)\n",
      "수요량을 만족시키고 있음\n",
      "F4으로 운송량 :25(수요량 :25)\n",
      "수요량을 만족시키고 있음\n",
      "W1부터의 운송량 :35 (공급한계 :35)\n",
      "공급한계 범위 내\n",
      "W2부터의 운송량 :40 (공급한계 :41)\n",
      "공급한계 범위 내\n",
      "W3부터의 운송량 :42 (공급한계 :42)\n",
      "공급한계 범위 내\n"
     ]
    }
   ],
   "source": [
    "# 수요측 제약 조건\n",
    "for i in range(len(df_demand.columns)) :\n",
    "    temp_sum = sum(df_tr[df_demand.columns[i]]) \n",
    "    print(str(df_demand.columns[i]) + \"으로 운송량 :\" + str(temp_sum) + \"(수요량 :\"+str(df_demand.iloc[0][i]) + \")\")\n",
    "    if temp_sum >= df_demand.iloc[0][i] : \n",
    "        print(\"수요량을 만족시키고 있음\")\n",
    "    else :\n",
    "        print(\"수요량을 만족시키지 못하고 있음. 운송경로 재계산 필요\")\n",
    "        \n",
    "# 공급측 제약 조건 \n",
    "for i in range(len(df_supply.columns)) :\n",
    "    temp_sum = sum(df_tr.loc[df_supply.columns[i]])\n",
    "    print(str(df_supply.columns[i]) + \"부터의 운송량 :\" + str(temp_sum) + \" (공급한계 :\" + str(df_supply.iloc[0][i]) + \")\")\n",
    "    \n",
    "    if temp_sum <= df_supply.iloc[0][i] :\n",
    "        print(\"공급한계 범위 내\")\n",
    "    else : \n",
    "        print(\"공급한계 초과. 운송경로 재계산 필요\")"
   ]
  },
  {
   "cell_type": "markdown",
   "id": "440127a8",
   "metadata": {},
   "source": [
    "* 각 공장으로 운반되는 부품의 수와 각 공장에 대한 수요량을 비교하면 공장에서 제조된 제품의 수가 수요량을 만족시키는지 여부를 검토할 수 있음 → 제약 조건 \n",
    "\n",
    "* 각 창고에서 출하되는 부품의 수와 각 창고의 공급 한계량을 비교하면 창고에서 공장으로 출하되는 부품의 수가 창고의 공급 한계를 넘는지를 검토할 수 있음 →  If 문으로 확인해 현재 운송 경로가 제약 조건을 만족시키는지 알 수 있음 \n",
    "\n",
    "**이 제약 조건을 만들어두면 운송 경로를 변경했을 때 새로운 경로가 제약 조건을 만족하는지를 확인할 수 있음**\n"
   ]
  },
  {
   "cell_type": "markdown",
   "id": "2c9a082a",
   "metadata": {},
   "source": [
    "### 테크닉 60 : 운송 경로를 변경해서 운송 비용 함수의 변화 확인"
   ]
  },
  {
   "cell_type": "markdown",
   "id": "ced7514f",
   "metadata": {},
   "source": [
    "제약조건은 테크닉 59에서 작성한 if 문에 의한 판단 결과를 그래프화하면 각 제약 조건을 만족시키는지 확인 가능 \n",
    "\n",
    " *(조건을 만족하는 경우 1, 그렇지 않으면 0을 표시)*\n",
    "\n",
    "W1에서 F4로의 운송을 줄이고, 그만큼을 W2에서 F4로의 운송으로 보충하는 것 "
   ]
  },
  {
   "cell_type": "code",
   "execution_count": 63,
   "id": "c356d55b",
   "metadata": {},
   "outputs": [
    {
     "name": "stdout",
     "output_type": "stream",
     "text": [
      "    F1  F2  F3  F4\n",
      "공장                \n",
      "W1  15  15   0   0\n",
      "W2   5   0  30  10\n",
      "W3  10  15   2  15\n",
      "총 운송 비용(변경 후) :1428만 원\n",
      "수요조건 계산결과 :[1. 1. 1. 1.]\n",
      "공급조건 계산결과 :[1. 0. 1.]\n"
     ]
    }
   ],
   "source": [
    "import pandas as pd\n",
    "import numpy as np\n",
    "\n",
    "# 데이터 불러오기 \n",
    "df_tr_new = pd.read_csv('trans_route_new.csv', index_col = \"공장\")\n",
    "print(df_tr_new)\n",
    "\n",
    "\n",
    "# 총 운송 비용 재꼐산 \n",
    "print(\"총 운송 비용(변경 후) :\" + str(trans_cost(df_tr_new, df_tc)) + \"만 원\")\n",
    "\n",
    "# 제약 조건 계산 함수\n",
    "# 수요측 \n",
    "\n",
    "def condition_demand(df_tr, df_demand) : \n",
    "    flag = np.zeros(len(df_demand.columns))\n",
    "    for i in range(len(df_demand.columns)) :\n",
    "        temp_sum = sum(df_tr[df_demand.columns[i]])\n",
    "        if (temp_sum >= df_demand.iloc[0][i]) :\n",
    "            flag[i] = 1\n",
    "    \n",
    "    return flag\n",
    "\n",
    "# 공급측 \n",
    "def condition_supply(df_tr, df_supply) :\n",
    "    flag = np.zeros(len(df_supply.columns))\n",
    "    for i in range(len(df_supply.columns)) :\n",
    "        temp_sum = sum(df_tr.loc[df_supply.columns[i]]) \n",
    "        if temp_sum <= df_supply.iloc[0][i] :\n",
    "            flag[i] = 1\n",
    "            \n",
    "    return flag \n",
    "\n",
    "print(\"수요조건 계산결과 :\" + str(condition_demand(df_tr_new, df_demand)))\n",
    "print(\"공급조건 계산결과 :\" + str(condition_supply(df_tr_new, df_supply)))"
   ]
  },
  {
   "cell_type": "markdown",
   "id": "5b46fc96",
   "metadata": {},
   "source": [
    "원래 운송비용 : 1493만 원 -> 1428만 원으로 약간의 비용 절감 확인 \n",
    "\n",
    "두 번째 공급 조건을 만족시키지 못 해 공장 W2의 공급 한계를 넘어버린 것을 알 수 있음 "
   ]
  }
 ],
 "metadata": {
  "kernelspec": {
   "display_name": "study",
   "language": "python",
   "name": "study"
  },
  "language_info": {
   "codemirror_mode": {
    "name": "ipython",
    "version": 3
   },
   "file_extension": ".py",
   "mimetype": "text/x-python",
   "name": "python",
   "nbconvert_exporter": "python",
   "pygments_lexer": "ipython3",
   "version": "3.10.13"
  }
 },
 "nbformat": 4,
 "nbformat_minor": 5
}
